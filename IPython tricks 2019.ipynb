{
 "cells": [
  {
   "cell_type": "markdown",
   "metadata": {},
   "source": [
    "# IPython/Jupyter Notebook tricks for advanced in 2019"
   ]
  },
  {
   "cell_type": "markdown",
   "metadata": {},
   "source": [
    "## Suppress output in IPython Notebook "
   ]
  },
  {
   "cell_type": "markdown",
   "metadata": {},
   "source": [
    "simple"
   ]
  },
  {
   "cell_type": "code",
   "execution_count": 1,
   "metadata": {},
   "outputs": [
    {
     "data": {
      "text/plain": [
       "4"
      ]
     },
     "execution_count": 1,
     "metadata": {},
     "output_type": "execute_result"
    }
   ],
   "source": [
    "2*2"
   ]
  },
  {
   "cell_type": "code",
   "execution_count": 2,
   "metadata": {},
   "outputs": [],
   "source": [
    "2*2;"
   ]
  },
  {
   "cell_type": "markdown",
   "metadata": {},
   "source": [
    "function"
   ]
  },
  {
   "cell_type": "code",
   "execution_count": 4,
   "metadata": {},
   "outputs": [
    {
     "name": "stdout",
     "output_type": "stream",
     "text": [
      "Private Message\n"
     ]
    }
   ],
   "source": [
    "def myfunc():\n",
    "    print('Private Message')\n",
    "myfunc();"
   ]
  },
  {
   "cell_type": "code",
   "execution_count": 5,
   "metadata": {},
   "outputs": [],
   "source": [
    "%%capture\n",
    "def myfunc():\n",
    "    print('Private Message')\n",
    "myfunc()"
   ]
  },
  {
   "cell_type": "markdown",
   "metadata": {},
   "source": [
    "function 2"
   ]
  },
  {
   "cell_type": "code",
   "execution_count": 6,
   "metadata": {},
   "outputs": [
    {
     "name": "stdout",
     "output_type": "stream",
     "text": [
      "Private Message\n"
     ]
    }
   ],
   "source": [
    "def myfunc():\n",
    "    print('Private Message')\n",
    "    \n",
    "myfunc()"
   ]
  },
  {
   "cell_type": "code",
   "execution_count": 7,
   "metadata": {},
   "outputs": [],
   "source": [
    "from IPython.utils import io\n",
    "\n",
    "def myfunc():\n",
    "    print('Private Message')\n",
    "\n",
    "with io.capture_output() as captured:\n",
    "    myfunc()"
   ]
  },
  {
   "cell_type": "markdown",
   "metadata": {},
   "source": [
    "## Get function docs and arguments IPython Notebook "
   ]
  },
  {
   "cell_type": "code",
   "execution_count": 8,
   "metadata": {},
   "outputs": [],
   "source": [
    "import numpy\n",
    "table_list = [1,2,3,4,4]\n",
    "l = numpy.array_split(table_list, len(table_list)/4)"
   ]
  },
  {
   "cell_type": "code",
   "execution_count": 9,
   "metadata": {},
   "outputs": [],
   "source": [
    "?"
   ]
  },
  {
   "cell_type": "code",
   "execution_count": null,
   "metadata": {},
   "outputs": [],
   "source": [
    "? numpy.array_split"
   ]
  },
  {
   "cell_type": "markdown",
   "metadata": {},
   "source": [
    "## Change theme IPython Notebook \n",
    "\n",
    "install the module by\n",
    "\n",
    "`pip install jupyterthemes`\n",
    "\n",
    "install a theme:\n",
    "\n",
    "`jt -t chesterish`\n",
    "\n",
    "restore a theme:\n",
    "\n",
    "`jt -r`\n",
    "\n",
    "It can be done even inside jupyter notebook by:\n",
    "\n",
    "`!jt -r`"
   ]
  },
  {
   "cell_type": "code",
   "execution_count": null,
   "metadata": {},
   "outputs": [],
   "source": [
    "!jt -r"
   ]
  },
  {
   "cell_type": "code",
   "execution_count": null,
   "metadata": {},
   "outputs": [],
   "source": [
    "!jt -t chesterish"
   ]
  },
  {
   "cell_type": "markdown",
   "metadata": {},
   "source": [
    "## Bonus: some useful jupyter notebook magics"
   ]
  },
  {
   "cell_type": "code",
   "execution_count": null,
   "metadata": {},
   "outputs": [],
   "source": [
    "!jupyter kernelspec list"
   ]
  },
  {
   "cell_type": "code",
   "execution_count": null,
   "metadata": {},
   "outputs": [],
   "source": [
    "import numpy\n",
    "print (numpy.__path__)"
   ]
  },
  {
   "cell_type": "code",
   "execution_count": 18,
   "metadata": {},
   "outputs": [
    {
     "name": "stdout",
     "output_type": "stream",
     "text": [
      "Python 3.6.7\r\n"
     ]
    }
   ],
   "source": [
    "!python -V"
   ]
  },
  {
   "cell_type": "code",
   "execution_count": null,
   "metadata": {},
   "outputs": [],
   "source": [
    "!which python"
   ]
  },
  {
   "cell_type": "code",
   "execution_count": 17,
   "metadata": {},
   "outputs": [
    {
     "name": "stdout",
     "output_type": "stream",
     "text": [
      "appdirs==1.4.3\r\n",
      "asn1crypto==0.24.0\r\n",
      "atomicwrites==1.2.1\r\n",
      "attrs==18.2.0\r\n",
      "backcall==0.1.0\r\n",
      "black==18.9b0\r\n",
      "bleach==3.0.2\r\n",
      "boto==2.49.0\r\n",
      "boto3==1.9.67\r\n",
      "botocore==1.12.67\r\n",
      "camelot-py==0.7.1\r\n",
      "certifi==2018.8.24\r\n",
      "cffi==1.11.5\r\n",
      "chardet==3.0.4\r\n",
      "Click==7.0\r\n",
      "cryptography==2.3.1\r\n",
      "cycler==0.10.0\r\n",
      "decorator==4.3.0\r\n",
      "defusedxml==0.5.0\r\n",
      "distro==1.3.0\r\n",
      "docutils==0.14\r\n",
      "entrypoints==0.2.3\r\n",
      "et-xmlfile==1.0.1\r\n",
      "filelock==3.0.10\r\n",
      "idna==2.7\r\n",
      "ipykernel==5.1.0\r\n",
      "ipython==7.2.0\r\n",
      "ipython-genutils==0.2.0\r\n",
      "ipywidgets==7.4.2\r\n",
      "jdcal==1.4\r\n",
      "jedi==0.13.1\r\n",
      "Jinja2==2.10\r\n",
      "jira==2.0.0\r\n",
      "jmespath==0.9.3\r\n",
      "jsonref==0.2\r\n",
      "jsonschema==2.6.0\r\n",
      "jupyter==1.0.0\r\n",
      "jupyter-client==5.2.3\r\n",
      "jupyter-console==6.0.0\r\n",
      "jupyter-core==4.4.0\r\n",
      "jupyterthemes==0.20.0\r\n",
      "kiwisolver==1.0.1\r\n",
      "lesscpy==0.13.0\r\n",
      "lxml==4.3.0\r\n",
      "MarkupSafe==1.1.0\r\n",
      "matplotlib==3.0.0\r\n",
      "mistune==0.8.4\r\n",
      "more-itertools==5.0.0\r\n",
      "nbconvert==5.4.0\r\n",
      "nbformat==4.4.0\r\n",
      "notebook==5.7.2\r\n",
      "numpy==1.15.1\r\n",
      "oauthlib==2.1.0\r\n",
      "opencv-python==4.0.0.21\r\n",
      "openpyxl==2.5.14\r\n",
      "packaging==16.8\r\n",
      "pandas==0.23.4\r\n",
      "pandocfilters==1.4.2\r\n",
      "parso==0.3.1\r\n",
      "pbr==4.2.0\r\n",
      "pdfminer.six==20181108\r\n",
      "pexpect==4.6.0\r\n",
      "pickleshare==0.7.5\r\n",
      "Pillow==5.2.0\r\n",
      "pkg-resources==0.0.0\r\n",
      "pluggy==0.8.1\r\n",
      "ply==3.11\r\n",
      "prometheus-client==0.4.2\r\n",
      "prompt-toolkit==2.0.7\r\n",
      "ptyprocess==0.6.0\r\n",
      "py==1.7.0\r\n",
      "py-spy==0.1.8\r\n",
      "pycodestyle==2.3.1\r\n",
      "pycparser==2.18\r\n",
      "pycryptodome==3.7.3\r\n",
      "Pygments==2.3.0\r\n",
      "PyJWT==1.6.4\r\n",
      "PyMySQL==0.9.2\r\n",
      "pyparsing==2.2.0\r\n",
      "PyPDF2==1.26.0\r\n",
      "pytesseract==0.2.4\r\n",
      "pytest==4.1.1\r\n",
      "python-dateutil==2.7.3\r\n",
      "pytz==2018.5\r\n",
      "pyzmq==17.1.2\r\n",
      "qtconsole==4.4.3\r\n",
      "requests==2.19.1\r\n",
      "requests-oauthlib==1.0.0\r\n",
      "requests-toolbelt==0.8.0\r\n",
      "retrying==1.3.3\r\n",
      "s3transfer==0.1.13\r\n",
      "scrapinghub==2.0.3\r\n",
      "selenium==3.14.0\r\n",
      "Send2Trash==1.5.0\r\n",
      "simplejson==3.10.0\r\n",
      "six==1.10.0\r\n",
      "sortedcontainers==2.1.0\r\n",
      "style==1.1.0\r\n",
      "tabula-py==1.3.1\r\n",
      "tabulate==0.8.2\r\n",
      "terminado==0.8.1\r\n",
      "testpath==0.4.2\r\n",
      "toml==0.10.0\r\n",
      "tornado==5.1.1\r\n",
      "tox==3.7.0\r\n",
      "traitlets==4.3.2\r\n",
      "update==0.0.1\r\n",
      "urllib3==1.23\r\n",
      "virtualenv==16.3.0\r\n",
      "Wand==0.4.4\r\n",
      "wcwidth==0.1.7\r\n",
      "webencodings==0.5.1\r\n",
      "widgetsnbextension==3.4.2\r\n"
     ]
    }
   ],
   "source": [
    "!pip freeze"
   ]
  },
  {
   "cell_type": "code",
   "execution_count": null,
   "metadata": {},
   "outputs": [],
   "source": [
    "!echo $PATH  "
   ]
  },
  {
   "cell_type": "markdown",
   "metadata": {},
   "source": [
    "## Bonus 2: Top 10 most useful ipython key shortcuts"
   ]
  },
  {
   "cell_type": "markdown",
   "metadata": {},
   "source": [
    "* <kbd>Shift</kbd> + <kbd>Enter</kbd> - \trun cell\n",
    "* <kbd>Alt</kbd> + <kbd>Enter</kbd> - \trun cell, insert below\n",
    "* <kbd>Ctrl</kbd> + <kbd>m</kbd>, <kbd>c</kbd>  - \tcopy cell\n",
    "* <kbd>Ctrl</kbd> + <kbd>m</kbd>, <kbd>v</kbd>  - \tpaste cell\n",
    "* <kbd>Ctrl</kbd> + <kbd>m</kbd>, <kbd>l</kbd>  - \ttoggle line numbers\n",
    "* <kbd>Ctrl</kbd> + <kbd>m</kbd>, <kbd>j</kbd>  -\tmove cell\n",
    "* <kbd>Ctrl</kbd> + <kbd>m</kbd>, <kbd>y</kbd>  -\tcode cell\n",
    "* <kbd>Ctrl</kbd> + <kbd>m</kbd>, <kbd>m</kbd>  -\tmarkdown cell\n",
    "* <kbd>Ctrl</kbd> + <kbd>m</kbd>, <kbd>.</kbd>  -\trestart kernel\n",
    "* <kbd>Ctrl</kbd> + <kbd>m</kbd>, <kbd>h</kbd>  -\tshow keyboard shortcuts"
   ]
  },
  {
   "cell_type": "code",
   "execution_count": 21,
   "metadata": {},
   "outputs": [
    {
     "data": {
      "text/plain": [
       "2"
      ]
     },
     "execution_count": 21,
     "metadata": {},
     "output_type": "execute_result"
    }
   ],
   "source": [
    "1+1"
   ]
  },
  {
   "cell_type": "code",
   "execution_count": null,
   "metadata": {},
   "outputs": [],
   "source": []
  },
  {
   "cell_type": "code",
   "execution_count": 22,
   "metadata": {},
   "outputs": [
    {
     "data": {
      "text/plain": [
       "2"
      ]
     },
     "execution_count": 22,
     "metadata": {},
     "output_type": "execute_result"
    }
   ],
   "source": [
    "1+1\n",
    "## markdown"
   ]
  },
  {
   "cell_type": "code",
   "execution_count": null,
   "metadata": {},
   "outputs": [],
   "source": []
  },
  {
   "cell_type": "code",
   "execution_count": null,
   "metadata": {},
   "outputs": [],
   "source": []
  },
  {
   "cell_type": "code",
   "execution_count": null,
   "metadata": {},
   "outputs": [],
   "source": []
  },
  {
   "cell_type": "code",
   "execution_count": null,
   "metadata": {},
   "outputs": [],
   "source": []
  },
  {
   "cell_type": "code",
   "execution_count": null,
   "metadata": {},
   "outputs": [],
   "source": []
  },
  {
   "cell_type": "code",
   "execution_count": null,
   "metadata": {},
   "outputs": [],
   "source": []
  }
 ],
 "metadata": {
  "kernelspec": {
   "display_name": "Python 3",
   "language": "python",
   "name": "python3"
  },
  "language_info": {
   "codemirror_mode": {
    "name": "ipython",
    "version": 3
   },
   "file_extension": ".py",
   "mimetype": "text/x-python",
   "name": "python",
   "nbconvert_exporter": "python",
   "pygments_lexer": "ipython3",
   "version": "3.6.7"
  }
 },
 "nbformat": 4,
 "nbformat_minor": 2
}
